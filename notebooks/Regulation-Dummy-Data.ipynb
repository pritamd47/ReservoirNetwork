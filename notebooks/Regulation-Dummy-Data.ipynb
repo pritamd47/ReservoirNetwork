{
 "cells": [
  {
   "cell_type": "markdown",
   "metadata": {},
   "source": [
    "# Why Dummy data?\n",
    "\n",
    "In the real dataset a lot of the reservoirs lack inflow data. Hence, resorting to dummy data"
   ]
  },
  {
   "cell_type": "code",
   "execution_count": 1,
   "metadata": {},
   "outputs": [],
   "source": [
    "import numpy as np\n",
    "import pandas as pd\n",
    "import matplotlib.pyplot as plt\n",
    "\n",
    "import random"
   ]
  },
  {
   "cell_type": "code",
   "execution_count": 2,
   "metadata": {},
   "outputs": [],
   "source": [
    "# # reservoir A\n",
    "# A = {}\n",
    "# A['inflow'] = np.array([100, 120, 130, 90, 60, 30, 20, 30, 20, 90, 150, 100, 80, 70, 50, 40])\n",
    "# A['storage_change'] = np.array([np.nan, 40, 40, 10, 0, -10, -10, -20, -20])"
   ]
  },
  {
   "cell_type": "code",
   "execution_count": null,
   "metadata": {},
   "outputs": [],
   "source": []
  },
  {
   "cell_type": "markdown",
   "metadata": {},
   "source": [
    "# Dummy data"
   ]
  },
  {
   "cell_type": "code",
   "execution_count": 1,
   "metadata": {},
   "outputs": [],
   "source": [
    "from landlab import NetworkModelGrid"
   ]
  },
  {
   "cell_type": "code",
   "execution_count": 2,
   "metadata": {},
   "outputs": [
    {
     "data": {
      "text/plain": [
       "<xarray.Dataset>\n",
       "Dimensions:        (node: 4, link: 3, Two: 2)\n",
       "Coordinates:\n",
       "  * node           (node) int64 0 1 2 3\n",
       "Dimensions without coordinates: link, Two\n",
       "Data variables:\n",
       "    mesh           <U1 'a'\n",
       "    y_of_node      (node) float64 0.0 1.0 2.0 2.0\n",
       "    x_of_node      (node) float64 0.0 0.0 -1.0 1.0\n",
       "    nodes_at_link  (link, Two) int64 0 1 2 1 1 3"
      ]
     },
     "execution_count": 2,
     "metadata": {},
     "output_type": "execute_result"
    }
   ],
   "source": [
    "y_of_node = (0, 1, 2, 2)\n",
    "x_of_node = (0, 0, -1, 1)\n",
    "\n",
    "nodes_at_link=(\n",
    "    (1, 0),\n",
    "    (2, 1),\n",
    "    (3, 1)\n",
    ")\n",
    "grid = NetworkModelGrid((y_of_node, x_of_node), nodes_at_link)\n",
    "grid"
   ]
  },
  {
   "cell_type": "code",
   "execution_count": 33,
   "metadata": {},
   "outputs": [],
   "source": [
    "inflow = grid.add_field(\n",
    "    'reservoir__unregulated_inflow',\n",
    "    [3, 2, 1, 1],\n",
    "    at = 'node',\n",
    "    units='m3/d',\n",
    "    clobber=True\n",
    ")\n",
    "storage_change = grid.add_field(\n",
    "    'reservoir__storage_change',\n",
    "    [0.3, 0.2, -0.1, 0.1],\n",
    "    at = 'node',\n",
    "    units='m3/d',\n",
    "    clobber=True\n",
    ")\n",
    "release = grid.add_field(\n",
    "    'reservoir__release',\n",
    "    [2.7, 1.8, 1.1, 0.9],\n",
    "    at = 'node',\n",
    "    units = 'm3/d',\n",
    "    clobber=True\n",
    ")\n",
    "abstract_elevation = grid.add_field(\n",
    "    'topographic__elevation',\n",
    "    [0.0, 1.0, 2.0, 2.0],\n",
    "    at = 'node',\n",
    "    units = 'm',\n",
    "    clobber=True\n",
    ")\n",
    "cell_area_at_node = grid.add_field(\n",
    "    'cell_area_at_node',\n",
    "    [1, 1, 1, 1],\n",
    "    at = 'node',\n",
    "    units = 'm2',\n",
    "    clobber=True\n",
    ")\n"
   ]
  },
  {
   "cell_type": "code",
   "execution_count": 34,
   "metadata": {},
   "outputs": [
    {
     "data": {
      "text/plain": [
       "<landlab.components.flow_director.flow_director_steepest.FlowDirectorSteepest at 0x7fe6714ad4d0>"
      ]
     },
     "execution_count": 34,
     "metadata": {},
     "output_type": "execute_result"
    }
   ],
   "source": [
    "from landlab.components import FlowDirectorSteepest\n",
    "\n",
    "fdr = FlowDirectorSteepest(grid)\n",
    "fdr.run_one_step()\n",
    "fdr"
   ]
  },
  {
   "cell_type": "code",
   "execution_count": 23,
   "metadata": {},
   "outputs": [
    {
     "name": "stdout",
     "output_type": "stream",
     "text": [
      "[ 1 -1 -1]\n",
      "[3 2 0]\n",
      "[ 1 -1 -1]\n",
      "[ 1 -1 -1]\n"
     ]
    }
   ],
   "source": [
    "for node in grid.nodes:\n",
    "    print(grid.adjacent_nodes_at_node[node])"
   ]
  },
  {
   "cell_type": "code",
   "execution_count": 20,
   "metadata": {},
   "outputs": [
    {
     "data": {
      "text/plain": [
       "array([ 0, -1, -1])"
      ]
     },
     "execution_count": 20,
     "metadata": {},
     "output_type": "execute_result"
    }
   ],
   "source": [
    "grid.links_at_node[0]"
   ]
  },
  {
   "cell_type": "code",
   "execution_count": 105,
   "metadata": {},
   "outputs": [],
   "source": [
    "import numpy as np\n",
    "import numpy.ma as ma"
   ]
  },
  {
   "cell_type": "code",
   "execution_count": 116,
   "metadata": {},
   "outputs": [
    {
     "data": {
      "text/plain": [
       "array([ 1.8,  2. ,  0. ,  0. ])"
      ]
     },
     "execution_count": 116,
     "metadata": {},
     "output_type": "execute_result"
    }
   ],
   "source": [
    "def get_upstream_inflow(grid):\n",
    "    \"\"\"Calculates the upstream inflow\n",
    "\n",
    "    Args:\n",
    "        grid (_type_): _description_\n",
    "        node (_type_): _description_\n",
    "\n",
    "    Returns:\n",
    "        _type_: _description_\n",
    "    \"\"\"\n",
    "    fdr = FlowDirectorSteepest(grid, abstract_elevation)\n",
    "    fdr.run_one_step()\n",
    "\n",
    "    upstream_contributing_links_at_node = np.where(\n",
    "        fdr.flow_link_incoming_at_node() == 1, grid.links_at_node, -1\n",
    "    )\n",
    "\n",
    "    upstream_links = ma.MaskedArray(upstream_contributing_links_at_node, mask=upstream_contributing_links_at_node==-1)\n",
    "    upstream_nodes = ma.MaskedArray(fdr.upstream_node_at_link()[upstream_links], mask=upstream_links.mask)\n",
    "    \n",
    "    regulated_inflow = ma.sum(\n",
    "        ma.MaskedArray(grid.at_node['reservoir__release'][upstream_nodes], mask=upstream_links.mask), axis=1\n",
    "    ).filled(0)\n",
    "\n",
    "    return regulated_inflow\n",
    "\n",
    "get_upstream_inflow(grid)"
   ]
  },
  {
   "cell_type": "markdown",
   "metadata": {},
   "source": [
    "# Using StreamflowRegulation component"
   ]
  },
  {
   "cell_type": "code",
   "execution_count": 35,
   "metadata": {},
   "outputs": [
    {
     "name": "stdout",
     "output_type": "stream",
     "text": [
      "The autoreload extension is already loaded. To reload it, use:\n",
      "  %reload_ext autoreload\n",
      "69720872.95189619\n",
      "21618935.201157093\n",
      "89247245.81297076\n",
      "96552122.66362464\n",
      "134458908.2123313\n"
     ]
    }
   ],
   "source": [
    "%load_ext autoreload\n",
    "%autoreload 2\n",
    "import numpy as np\n",
    "\n",
    "from landlab import NetworkModelGrid\n",
    "y_of_node = (0, 1)#, 2, 2)\n",
    "x_of_node = (0, 0)#, -1, 1)\n",
    "\n",
    "nodes_at_link=(\n",
    "    (1, 0),\n",
    "    # (2, 1),\n",
    "    # (3, 1)\n",
    ")\n",
    "grid = NetworkModelGrid((y_of_node, x_of_node), nodes_at_link)\n",
    "\n",
    "\n",
    "grid.add_field(\n",
    "    \"reservoir__total_inflow\",\n",
    "    np.full_like(grid.x_of_node, np.nan),\n",
    "    at='node',\n",
    "    units='m3/d' ,\n",
    "    clobber=True\n",
    ")\n",
    "grid.add_field(\n",
    "    \"reservoir__storage_change\",\n",
    "    np.full_like(grid.x_of_node, np.nan),\n",
    "    at='node',\n",
    "    units='m3/d' ,\n",
    "    clobber=True\n",
    ")\n",
    "grid.add_field(\n",
    "    \"reservoir__release\",\n",
    "    np.full_like(grid.x_of_node, np.nan),\n",
    "    at='node',\n",
    "    units='m3/d' ,\n",
    "    clobber=True\n",
    ")\n",
    "grid.add_field(\n",
    "    \"reservoir__regulated_inflow\",\n",
    "    np.full_like(grid.x_of_node, np.nan),\n",
    "    at='node',\n",
    "    units='m3/d' ,\n",
    "    clobber=True\n",
    ")\n",
    "grid.add_field(\n",
    "    \"reservoir__unregulated_inflow\",\n",
    "    np.full_like(grid.x_of_node, np.nan),\n",
    "    at='node',\n",
    "    units='m3/d' ,\n",
    "    clobber=True\n",
    ")\n",
    "grid.add_field(\n",
    "    \"reservoir__abstract_elevation\",\n",
    "    (1.0, 0.0),\n",
    "    at='node',\n",
    "    units='m' ,\n",
    "    clobber=True\n",
    ")\n",
    "grid.add_field(\n",
    "    \"river__hydraulic_radius\",\n",
    "    (10.0),\n",
    "    at='link',\n",
    "    unit='m',\n",
    "    clobber=True\n",
    ")\n",
    "grid.add_field(\n",
    "    \"river__roughness\",\n",
    "    (0.03),\n",
    "    at='link',\n",
    "    unit='-',\n",
    "    clobber=True\n",
    ")\n",
    "grid.add_field(\n",
    "    \"river__storage\",\n",
    "    (1000 * 1e6),\n",
    "    at='link',\n",
    "    unit='m3',\n",
    "    clobber=True\n",
    ")\n",
    "grid.add_field(\n",
    "    \"river__slope\",\n",
    "    (0.028),  # assuming elevation = 3000, 1600; and distance between reservoirs as 50km\n",
    "    at='link',\n",
    "    unit='m/m',\n",
    "    clobber=True\n",
    ")\n",
    "grid.add_field(\n",
    "    \"river__length\",\n",
    "    (1600.0),\n",
    "    at='link',\n",
    "    unit='m',\n",
    "    clobber=True\n",
    ")\n",
    "\n",
    "\n",
    "import numpy as np\n",
    "\n",
    "from landlab.data_record import DataRecord\n",
    "from reservoirnetwork.reservoir_component import StreamflowRegulation\n",
    "items = None\n",
    "\n",
    "time = [ 1, 2, 3, 4, 5]#, 6, 7, 8, 9, 10, 11, 12, 13, 14, 15, 16, 17, 18, 19, 20, 21, 22, 23, 24, 25, 26, 27, 28]\n",
    "\n",
    "r_A_inflow = np.array([ 120, 130, 90, 60, 30]) * 0.1* 1e6 #, 20, 30, 20, 15, 15, 10, 9, 9, 9, 8, 9, 90, 150, 120, 100, 80, 70, 50, 40, 30, 23, 16, 10]\n",
    "r_A_storage_change = np.array([ 30, 30, 10, 0, 0]) * 0.1* 1e6 #, -5, 0, -10, -15, -15, -15, -10, -10, -8, -4, -5, 5, 40, 35, 20, 10, 3, -4, -10, -20, -10, -15, -20]\n",
    "r_B_inflow = np.array([162, 178, 134, 96, 48]) * 0.1* 1e6 #, 37, 48, 42, 39, 39, 31, 24.4, 24.4, 22.4, 16.8, 19.4, 139, 200, 157, 140, 118, 109, 84, 74, 68, 46.8, 40.6, 36]\n",
    "r_B_storage_change = np.array([ 35, 30, 30, 10, 0]) * 0.1* 1e6 #, 0, 10, -10, -15, -20, -20, -20, -15, -15, -20, 10, 40, 40, 25, 20, 5, -10, -20, -15, -16, -15, -10, -20]\n",
    "last_release = np.array([90, 127]) * 0.1* 1e6\n",
    "\n",
    "grid.at_node['reservoir__release'] = last_release\n",
    "\n",
    "# print(StreamflowRegulation.input_var_names)\n",
    "\n",
    "\n",
    "sr = StreamflowRegulation(grid)\n",
    "\n",
    "\n",
    "data = {output_var_name: [] for output_var_name in sr.output_var_names}\n",
    "\n",
    "for t, inflow, storage_change in zip(\n",
    "    time, \n",
    "    zip(r_A_inflow, r_B_inflow), \n",
    "    zip(r_A_storage_change, r_B_storage_change)\n",
    "):\n",
    "    # grid.at_node['reservoir__release'] = last_release\n",
    "    sr.run_one_step(t, inflow, storage_change)\n",
    "\n",
    "    last_release = grid.at_node['reservoir__release']\n",
    "    # print(grid.at_node['reservoir__release'], grid.at_link['river__storage'])\n",
    "    # print(grid.at_node['reservoir__regulated_inflow'])\n",
    "    print(grid.at_link['river__flow'])\n",
    "    # print(grid.at_node['reservoir__unregulated_inflow'])\n",
    "    # print(grid.at_node['reservoir__regulated_inflow'], grid.at_node['reservoir__total_inflow'])\n",
    "    # print(last_release)\n"
   ]
  },
  {
   "cell_type": "code",
   "execution_count": null,
   "metadata": {},
   "outputs": [],
   "source": []
  },
  {
   "cell_type": "code",
   "execution_count": null,
   "metadata": {},
   "outputs": [],
   "source": [
    "88,899,999"
   ]
  }
 ],
 "metadata": {
  "kernelspec": {
   "display_name": "Python 3.7.12 (conda)",
   "language": "python",
   "name": "python3"
  },
  "language_info": {
   "codemirror_mode": {
    "name": "ipython",
    "version": 3
   },
   "file_extension": ".py",
   "mimetype": "text/x-python",
   "name": "python",
   "nbconvert_exporter": "python",
   "pygments_lexer": "ipython3",
   "version": "3.8.15"
  },
  "orig_nbformat": 4,
  "vscode": {
   "interpreter": {
    "hash": "ab242651edbfbe65a603a1b9978c6e70f45c9076a65105cfc544cb6bc62a9c73"
   }
  }
 },
 "nbformat": 4,
 "nbformat_minor": 2
}
