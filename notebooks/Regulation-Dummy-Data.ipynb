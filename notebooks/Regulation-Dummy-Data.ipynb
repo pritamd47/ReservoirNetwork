{
 "cells": [
  {
   "cell_type": "markdown",
   "metadata": {},
   "source": [
    "# Why Dummy data?\n",
    "\n",
    "In the real dataset a lot of the reservoirs lack inflow data. Hence, resorting to dummy data"
   ]
  },
  {
   "cell_type": "code",
   "execution_count": 1,
   "metadata": {},
   "outputs": [],
   "source": [
    "import numpy as np\n",
    "import pandas as pd\n",
    "import matplotlib.pyplot as plt\n",
    "\n",
    "import random"
   ]
  },
  {
   "cell_type": "code",
   "execution_count": 2,
   "metadata": {},
   "outputs": [],
   "source": [
    "# # reservoir A\n",
    "# A = {}\n",
    "# A['inflow'] = np.array([100, 120, 130, 90, 60, 30, 20, 30, 20, 90, 150, 100, 80, 70, 50, 40])\n",
    "# A['storage_change'] = np.array([np.nan, 40, 40, 10, 0, -10, -10, -20, -20])"
   ]
  },
  {
   "cell_type": "code",
   "execution_count": null,
   "metadata": {},
   "outputs": [],
   "source": []
  },
  {
   "cell_type": "markdown",
   "metadata": {},
   "source": [
    "# Dummy data"
   ]
  },
  {
   "cell_type": "code",
   "execution_count": 1,
   "metadata": {},
   "outputs": [],
   "source": [
    "from landlab import NetworkModelGrid"
   ]
  },
  {
   "cell_type": "code",
   "execution_count": 2,
   "metadata": {},
   "outputs": [
    {
     "data": {
      "text/plain": [
       "<xarray.Dataset>\n",
       "Dimensions:        (node: 4, link: 3, Two: 2)\n",
       "Coordinates:\n",
       "  * node           (node) int64 0 1 2 3\n",
       "Dimensions without coordinates: link, Two\n",
       "Data variables:\n",
       "    mesh           <U1 'a'\n",
       "    y_of_node      (node) float64 0.0 1.0 2.0 2.0\n",
       "    x_of_node      (node) float64 0.0 0.0 -1.0 1.0\n",
       "    nodes_at_link  (link, Two) int64 0 1 2 1 1 3"
      ]
     },
     "execution_count": 2,
     "metadata": {},
     "output_type": "execute_result"
    }
   ],
   "source": [
    "y_of_node = (0, 1, 2, 2)\n",
    "x_of_node = (0, 0, -1, 1)\n",
    "\n",
    "nodes_at_link=(\n",
    "    (1, 0),\n",
    "    (2, 1),\n",
    "    (3, 1)\n",
    ")\n",
    "grid = NetworkModelGrid((y_of_node, x_of_node), nodes_at_link)\n",
    "grid"
   ]
  },
  {
   "cell_type": "code",
   "execution_count": 33,
   "metadata": {},
   "outputs": [],
   "source": [
    "inflow = grid.add_field(\n",
    "    'reservoir__unregulated_inflow',\n",
    "    [3, 2, 1, 1],\n",
    "    at = 'node',\n",
    "    units='m3/d',\n",
    "    clobber=True\n",
    ")\n",
    "storage_change = grid.add_field(\n",
    "    'reservoir__storage_change',\n",
    "    [0.3, 0.2, -0.1, 0.1],\n",
    "    at = 'node',\n",
    "    units='m3/d',\n",
    "    clobber=True\n",
    ")\n",
    "release = grid.add_field(\n",
    "    'reservoir__release',\n",
    "    [2.7, 1.8, 1.1, 0.9],\n",
    "    at = 'node',\n",
    "    units = 'm3/d',\n",
    "    clobber=True\n",
    ")\n",
    "abstract_elevation = grid.add_field(\n",
    "    'topographic__elevation',\n",
    "    [0.0, 1.0, 2.0, 2.0],\n",
    "    at = 'node',\n",
    "    units = 'm',\n",
    "    clobber=True\n",
    ")\n",
    "cell_area_at_node = grid.add_field(\n",
    "    'cell_area_at_node',\n",
    "    [1, 1, 1, 1],\n",
    "    at = 'node',\n",
    "    units = 'm2',\n",
    "    clobber=True\n",
    ")\n"
   ]
  },
  {
   "cell_type": "code",
   "execution_count": 34,
   "metadata": {},
   "outputs": [
    {
     "data": {
      "text/plain": [
       "<landlab.components.flow_director.flow_director_steepest.FlowDirectorSteepest at 0x7fe6714ad4d0>"
      ]
     },
     "execution_count": 34,
     "metadata": {},
     "output_type": "execute_result"
    }
   ],
   "source": [
    "from landlab.components import FlowDirectorSteepest\n",
    "\n",
    "fdr = FlowDirectorSteepest(grid)\n",
    "fdr.run_one_step()\n",
    "fdr"
   ]
  },
  {
   "cell_type": "code",
   "execution_count": 23,
   "metadata": {},
   "outputs": [
    {
     "name": "stdout",
     "output_type": "stream",
     "text": [
      "[ 1 -1 -1]\n",
      "[3 2 0]\n",
      "[ 1 -1 -1]\n",
      "[ 1 -1 -1]\n"
     ]
    }
   ],
   "source": [
    "for node in grid.nodes:\n",
    "    print(grid.adjacent_nodes_at_node[node])"
   ]
  },
  {
   "cell_type": "code",
   "execution_count": 20,
   "metadata": {},
   "outputs": [
    {
     "data": {
      "text/plain": [
       "array([ 0, -1, -1])"
      ]
     },
     "execution_count": 20,
     "metadata": {},
     "output_type": "execute_result"
    }
   ],
   "source": [
    "grid.links_at_node[0]"
   ]
  },
  {
   "cell_type": "code",
   "execution_count": 105,
   "metadata": {},
   "outputs": [],
   "source": [
    "import numpy as np\n",
    "import numpy.ma as ma"
   ]
  },
  {
   "cell_type": "code",
   "execution_count": 115,
   "metadata": {},
   "outputs": [
    {
     "name": "stdout",
     "output_type": "stream",
     "text": [
      "[[1 -- --]\n",
      " [3 2 --]\n",
      " [-- -- --]\n",
      " [-- -- --]]\n"
     ]
    },
    {
     "data": {
      "text/plain": [
       "array([ 1.8,  2. ,  0. ,  0. ])"
      ]
     },
     "execution_count": 115,
     "metadata": {},
     "output_type": "execute_result"
    }
   ],
   "source": [
    "def get_upstream_inflow(grid, node):\n",
    "    \"\"\"Calculates the upstream inflow\n",
    "\n",
    "    Args:\n",
    "        grid (_type_): _description_\n",
    "        node (_type_): _description_\n",
    "\n",
    "    Returns:\n",
    "        _type_: _description_\n",
    "    \"\"\"\n",
    "    fdr = FlowDirectorSteepest(grid, abstract_elevation)\n",
    "    fdr.run_one_step()\n",
    "\n",
    "    number_of_contributors = np.sum(\n",
    "        fdr.flow_link_incoming_at_node() == 1, axis=1\n",
    "    )\n",
    "    downstream_link_id = fdr.link_to_flow_receiving_node\n",
    "    upstream_contributing_links_at_node = np.where(\n",
    "        fdr.flow_link_incoming_at_node() == 1, grid.links_at_node, -1\n",
    "    )\n",
    "\n",
    "    upstream_links = ma.MaskedArray(upstream_contributing_links_at_node, mask=upstream_contributing_links_at_node==-1)\n",
    "    upstream_nodes = ma.MaskedArray(fdr.upstream_node_at_link()[upstream_links], mask=upstream_links.mask)\n",
    "    print(upstream_nodes)\n",
    "    \n",
    "    regulated_inflow = ma.sum(\n",
    "        ma.MaskedArray(grid.at_node['reservoir__release'][upstream_nodes], mask=upstream_links.mask), axis=1\n",
    "    ).filled(0)\n",
    "\n",
    "    return regulated_inflow\n",
    "\n",
    "get_upstream_inflow(grid, 0)"
   ]
  },
  {
   "cell_type": "code",
   "execution_count": null,
   "metadata": {},
   "outputs": [],
   "source": []
  }
 ],
 "metadata": {
  "kernelspec": {
   "display_name": "Python 3.7.12 (conda)",
   "language": "python",
   "name": "python3"
  },
  "language_info": {
   "codemirror_mode": {
    "name": "ipython",
    "version": 3
   },
   "file_extension": ".py",
   "mimetype": "text/x-python",
   "name": "python",
   "nbconvert_exporter": "python",
   "pygments_lexer": "ipython3",
   "version": "3.7.12"
  },
  "orig_nbformat": 4,
  "vscode": {
   "interpreter": {
    "hash": "ab242651edbfbe65a603a1b9978c6e70f45c9076a65105cfc544cb6bc62a9c73"
   }
  }
 },
 "nbformat": 4,
 "nbformat_minor": 2
}
